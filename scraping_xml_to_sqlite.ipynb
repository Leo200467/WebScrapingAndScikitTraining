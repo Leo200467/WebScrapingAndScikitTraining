{
 "cells": [
  {
   "cell_type": "code",
   "execution_count": 5,
   "metadata": {},
   "outputs": [],
   "source": [
    "import sqlite3\n",
    "import xml.etree.ElementTree"
   ]
  },
  {
   "cell_type": "code",
   "execution_count": 6,
   "metadata": {},
   "outputs": [],
   "source": [
    "xml_scraping = xml.etree.ElementTree.parse('scraping.xml')\n",
    "all_books = xml_scraping.findall('row')"
   ]
  },
  {
   "cell_type": "code",
   "execution_count": 7,
   "metadata": {},
   "outputs": [],
   "source": [
    "book_sql_parsing = list()\n",
    "\n",
    "for unit_books in all_books:\n",
    "    book_sql_parsing.append((\n",
    "        unit_books.find('Book-Title').text, \n",
    "        unit_books.find('Book-Price').text,\n",
    "        unit_books.find('Book-Rating').text, \n",
    "        unit_books.find('Page-Found').text\n",
    "    ))"
   ]
  },
  {
   "cell_type": "code",
   "execution_count": 8,
   "metadata": {},
   "outputs": [],
   "source": [
    "def insert_book_many_records(dbconnection, table_to_insert, list_to_insert):\n",
    "    \"\"\"\n",
    "    Function inserts scraping results into SQLite 3 Database\n",
    "\n",
    "    :param dbconnection: string - name of sqlite base used for connection\n",
    "    :param table_to_insert: string - table in your SQLite base where insert data\n",
    "    :param list_to_insert: list - book list to insert using the following format [(book_title, book_price, book_rating, page_found)].\n",
    "    \"\"\"\n",
    "    \n",
    "    connection = sqlite3.connect(dbconnection)\n",
    "    cursor = connection.cursor()\n",
    "\n",
    "    print(f'Inserting list into {dbconnection}')\n",
    "\n",
    "    cursor.executemany(f\"INSERT INTO {table_to_insert} VALUES (?,?,?,?)\", list_to_insert)\n",
    "\n",
    "    connection.commit()\n",
    "    print('Data commited')\n",
    "\n",
    "    connection.close()\n",
    "    print('Connection Closed')"
   ]
  }
 ],
 "metadata": {
  "interpreter": {
   "hash": "0a970e5711fffcc62d8d710a32dca9644f4e3c9120e1d73593923626cdbfdc24"
  },
  "kernelspec": {
   "display_name": "Python 3.8.10 64-bit ('training': conda)",
   "name": "python3"
  },
  "language_info": {
   "codemirror_mode": {
    "name": "ipython",
    "version": 3
   },
   "file_extension": ".py",
   "mimetype": "text/x-python",
   "name": "python",
   "nbconvert_exporter": "python",
   "pygments_lexer": "ipython3",
   "version": "3.8.10"
  },
  "orig_nbformat": 4
 },
 "nbformat": 4,
 "nbformat_minor": 2
}
