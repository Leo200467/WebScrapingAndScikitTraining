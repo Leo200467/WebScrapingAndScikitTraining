{
 "cells": [
  {
   "cell_type": "code",
   "execution_count": null,
   "metadata": {},
   "outputs": [],
   "source": [
    "import sqlite3\n",
    "import xml.etree.ElementTree"
   ]
  },
  {
   "cell_type": "code",
   "execution_count": null,
   "metadata": {},
   "outputs": [],
   "source": [
    "xml_scraping = xml.etree.ElementTree.parse('scraping.xml')\n",
    "all_books = xml_scraping.findall('row')"
   ]
  },
  {
   "cell_type": "code",
   "execution_count": 55,
   "metadata": {},
   "outputs": [],
   "source": [
    "book_sql_parsing = list()\n",
    "\n",
    "for unit_books in all_books:\n",
    "    book_sql_parsing.append((\n",
    "        unit_books.find('Book-Title').text, \n",
    "        unit_books.find('Book-Price').text,\n",
    "        unit_books.find('Book-Rating').text, \n",
    "        unit_books.find('Page-Found').text\n",
    "    ))\n",
    "\n",
    "test_book_list = book_sql_parsing[3:50]"
   ]
  },
  {
   "cell_type": "code",
   "execution_count": 48,
   "metadata": {},
   "outputs": [],
   "source": [
    "def insert_book_one_record(dbconnection, table, book_title, book_price, book_rating, page_found):\n",
    "    conn = sqlite3.connect(dbconnection)\n",
    "    curs = conn.cursor()\n",
    "\n",
    "    print(f'Insert into {dbconnection}')\n",
    "\n",
    "    curs.execute(f\"INSERT INTO {table} VALUES (?,?,?,?)\", (book_title, book_price, book_rating, page_found))\n",
    "\n",
    "    # Commit command\n",
    "    conn.commit()\n",
    "\n",
    "    # Close your connection\n",
    "    conn.close()\n",
    "    print('Connection Closed')"
   ]
  },
  {
   "cell_type": "code",
   "execution_count": null,
   "metadata": {},
   "outputs": [],
   "source": [
    "for books_in_sql in book_sql_parsing:\n",
    "   insert_book_one_record('books.db','books', books_in_sql['Book-Title'], books_in_sql['Book-Price'], books_in_sql['Book-Rating'], books_in_sql['Page-Found'])"
   ]
  },
  {
   "cell_type": "code",
   "execution_count": 49,
   "metadata": {},
   "outputs": [],
   "source": [
    "def insert_book_many_records(dbconnection, table_to_insert, list_to_insert):\n",
    "    connection = sqlite3.connect(dbconnection)\n",
    "    cursor = connection.cursor()\n",
    "\n",
    "    print(f'Inserting list into {dbconnection}')\n",
    "\n",
    "    cursor.executemany(f\"INSERT INTO {table_to_insert} VALUES (?,?,?,?)\", list_to_insert)\n",
    "\n",
    "    connection.commit()\n",
    "\n",
    "    connection.close()\n",
    "    print('Connection Closed')"
   ]
  },
  {
   "cell_type": "code",
   "execution_count": 54,
   "metadata": {},
   "outputs": [
    {
     "name": "stdout",
     "output_type": "stream",
     "text": [
      "Inserting list into books.db\n",
      "Connection Closed\n"
     ]
    }
   ],
   "source": [
    "insert_book_many_records('books.db', 'books', book_sql_parsing)"
   ]
  },
  {
   "cell_type": "markdown",
   "metadata": {},
   "source": [
    "# Create a table\n",
    "\n",
    "cursor.execute(\n",
    "\"\"\"\n",
    "    CREATE TABLE books (\n",
    "        book_title text,\n",
    "        book_price real,\n",
    "        book_rating integer,\n",
    "        page_found integer\n",
    "        )\n",
    "\"\"\" \n",
    "#)"
   ]
  },
  {
   "cell_type": "markdown",
   "metadata": {},
   "source": [
    "# Inserting One Record into Table\n",
    "cursor.execute(\"\"\"\n",
    "    INSERT INTO books VALUES ('A Light in the Attic', '51.77', '3', '1')\n",
    "\"\"\")"
   ]
  },
  {
   "cell_type": "markdown",
   "metadata": {},
   "source": [
    "# Inserting many records into table\n",
    "some_books = [\n",
    "    ('Tipping the Velve', '53.74', '1', '1'),\n",
    "    ('Soumission', '50.10', '1', '1'),\n",
    "    ('Sharp Objects', '47.82', '4', '1'),\n",
    "]\n",
    "\n",
    "cursor.executemany(\"INSERT INTO books VALUES (?,?,?,?)\", some_books)"
   ]
  },
  {
   "cell_type": "markdown",
   "metadata": {},
   "source": [
    "# Update Records\n",
    "\n",
    "cursor.execute(\"\"\"\n",
    "    UPDATE books SET book_price = '50.10'\n",
    "    WHERE rowid = '3'\n",
    "\"\"\")"
   ]
  },
  {
   "cell_type": "markdown",
   "metadata": {},
   "source": [
    "# Fetch and Query data\n",
    "cursor.execute(\"SELECT rowid, * FROM books ORDER BY book_price DESC\")\n",
    "\n",
    "query = cursor.fetchall()\n",
    "\n",
    "print(query)\n",
    "\n",
    "#### > [('A Light in the Attic', 51.77, 3, 1), ('Tipping the Velve', 53.74, 1, 1), ('Soumission', 50.1, 1, 1), ('Sharp Objects', 47.82, 4, 1)]\n",
    "\n"
   ]
  },
  {
   "cell_type": "markdown",
   "metadata": {},
   "source": [
    "# Commit command - post into database\n",
    "conn.commit()"
   ]
  },
  {
   "cell_type": "markdown",
   "metadata": {},
   "source": [
    "# Close your connection - BEST PRATICE\n",
    "conn.close()"
   ]
  },
  {
   "cell_type": "markdown",
   "metadata": {},
   "source": [
    "Tipping the Velvet\t5374\t1\t1\n",
    "Soumission\t501\t1\t1\n",
    "Sharp Objects\t4782\t4\t1\n"
   ]
  }
 ],
 "metadata": {
  "interpreter": {
   "hash": "0a970e5711fffcc62d8d710a32dca9644f4e3c9120e1d73593923626cdbfdc24"
  },
  "kernelspec": {
   "display_name": "Python 3.8.10 64-bit ('training': conda)",
   "name": "python3"
  },
  "language_info": {
   "codemirror_mode": {
    "name": "ipython",
    "version": 3
   },
   "file_extension": ".py",
   "mimetype": "text/x-python",
   "name": "python",
   "nbconvert_exporter": "python",
   "pygments_lexer": "ipython3",
   "version": "3.8.10"
  },
  "orig_nbformat": 4
 },
 "nbformat": 4,
 "nbformat_minor": 2
}
