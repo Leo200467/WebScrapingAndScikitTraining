{
    "cells": [
        {
            "cell_type": "code",
            "execution_count": 15,
            "source": [
                "from bs4 import BeautifulSoup\r\n",
                "import requests\r\n",
                "import pandas as pd\r\n",
                "import csv"
            ],
            "outputs": [],
            "metadata": {}
        },
        {
            "cell_type": "code",
            "execution_count": 16,
            "source": [
                "\r\n",
                "def string2number(input):\r\n",
                "    \"\"\"\" This function takes words One, Two, Three, Four, Five and turns into numbers\r\n",
                "    Returns integers only\r\n",
                "\r\n",
                "    Parameters\r\n",
                "    ----------\r\n",
                "    input : single string input\r\n",
                "\r\n",
                "    Returns\r\n",
                "    -------\r\n",
                "    int type number\r\n",
                "\r\n",
                "    Notes\r\n",
                "    -----\r\n",
                "    Amazingly particular function, it doesn't do much but it's honest. \r\n",
                "\r\n",
                "    Examples\r\n",
                "    --------\r\n",
                "    string2number('One')\r\n",
                "    Output: 1\r\n",
                "\r\n",
                "    \"\"\"\r\n",
                "    texts = {\r\n",
                "        'One': 1,\r\n",
                "        'Two': 2,\r\n",
                "        'Three': 3,\r\n",
                "        'Four': 4,\r\n",
                "        'Five': 5\r\n",
                "    }\r\n",
                "    return int(texts.get(input))\r\n",
                "\r\n",
                "\r\n",
                "with open('scraping_results.csv', mode='w') as csv_file:\r\n",
                "    fieldnames = ['Book Title', 'Book Price', 'Book Rating', 'Page Found']\r\n",
                "    writer = csv.DictWriter(csv_file, fieldnames=fieldnames)\r\n",
                "    writer.writeheader()\r\n",
                "\r\n",
                "title = []\r\n",
                "price = []\r\n",
                "rating = []\r\n",
                "num_page = []\r\n",
                "\r\n",
                "url = 'http://books.toscrape.com/catalogue/page-1.html'\r\n",
                "\r\n",
                "def scrapper(web_page, page_number):\r\n",
                "    #print(f'scanning page: {web_page} \\n-> Parameters: {page_number}, {web_page}')\r\n",
                "    html_text = requests.get(web_page).text\r\n",
                "    soup = BeautifulSoup(html_text, 'lxml')\r\n",
                "    books = soup.find_all('li', class_='col-xs-6 col-sm-4 col-md-3 col-lg-3')\r\n",
                "    pages = soup.find('li', class_ = 'current').text.strip()\r\n",
                "    total_pages = int(pages[-2:])\r\n",
                "\r\n",
                "    for book in books:\r\n",
                "        book_title = book.h3.a['title']\r\n",
                "        book_price = book.find('p', class_='price_color').text\r\n",
                "        book_rating = book.p['class']\r\n",
                "        #print(f'Book Title:{book_title} || Book Price:{book_price[1:]} || Book Rating:{book_rating} || Page found:{page_number}')\r\n",
                "        title.append(book_title)\r\n",
                "        price.append(book_price[2:])\r\n",
                "        rating.append(book_rating)\r\n",
                "        num_page.append(page_number)\r\n",
                "    #print(f'Page {page_number}, goint to page {page_number+1}')\r\n",
                "\r\n",
                "    if page_number < total_pages:\r\n",
                "        page_number += 1\r\n",
                "        #print(f'actual page_number {page_number}')\r\n",
                "        url = 'http://books.toscrape.com/catalogue/page-' + str(page_number) + '.html'\r\n",
                "        scrapper(url, page_number)\r\n",
                "\r\n",
                "scrapper(url, 1)"
            ],
            "outputs": [],
            "metadata": {}
        },
        {
            "cell_type": "code",
            "execution_count": 23,
            "source": [
                "int_ratings = [string2number(rates[1]) for rates in rating]\r\n",
                "\r\n",
                "data = {'Book-Title': title, 'Book-Price': pd.to_numeric(price), 'Book-Rating': int_ratings, 'Page-Found': num_page}\r\n",
                "\r\n",
                "df = pd.DataFrame(data)\r\n"
            ],
            "outputs": [],
            "metadata": {}
        },
        {
            "cell_type": "code",
            "execution_count": 24,
            "source": [
                "df.to_csv(r'scraping_results2.csv')"
            ],
            "outputs": [],
            "metadata": {}
        },
        {
            "cell_type": "code",
            "execution_count": 19,
            "source": [
                "df2 = pd.DataFrame(data)\r\n",
                "\r\n",
                "df2.to_xml(r'scraping.xml')"
            ],
            "outputs": [],
            "metadata": {}
        },
        {
            "cell_type": "markdown",
            "source": [
                "price_mean = df.mean()[0].round(2)\r\n",
                "\r\n",
                "unique_pages = pd.DataFrame(num_page, columns=['Pages']).drop_duplicates()"
            ],
            "metadata": {}
        },
        {
            "cell_type": "markdown",
            "source": [
                "books_with_the = df.loc[(df['Book Title'].str.contains('^The'))]\r\n",
                "books_with_the.head()"
            ],
            "metadata": {}
        },
        {
            "cell_type": "markdown",
            "source": [
                "book_per_page = df.groupby(['Page Found']) \\\r\n",
                "                  .agg({'Book Title':'size', 'Book Price':'mean', 'Book Rating':'mean'}) \\\r\n",
                "                  .rename(columns={'Book Title':'Book per Page','Book Price':'Mean Price', 'Book Rating':'Mean Rating'}) \\\r\n",
                "                  .round(2)\r\n",
                "\r\n",
                "book_per_page.head()"
            ],
            "metadata": {}
        }
    ],
    "metadata": {
        "orig_nbformat": 4,
        "language_info": {
            "name": "python",
            "version": "3.8.10",
            "mimetype": "text/x-python",
            "codemirror_mode": {
                "name": "ipython",
                "version": 3
            },
            "pygments_lexer": "ipython3",
            "nbconvert_exporter": "python",
            "file_extension": ".py"
        },
        "kernelspec": {
            "name": "python3",
            "display_name": "Python 3.8.10 64-bit ('training': conda)"
        },
        "interpreter": {
            "hash": "0a970e5711fffcc62d8d710a32dca9644f4e3c9120e1d73593923626cdbfdc24"
        }
    },
    "nbformat": 4,
    "nbformat_minor": 2
}